{
  "nbformat": 4,
  "nbformat_minor": 0,
  "metadata": {
    "colab": {
      "provenance": [],
      "authorship_tag": "ABX9TyMJgemolZ4fzCblopaZnPRd",
      "include_colab_link": true
    },
    "kernelspec": {
      "name": "python3",
      "display_name": "Python 3"
    },
    "language_info": {
      "name": "python"
    }
  },
  "cells": [
    {
      "cell_type": "markdown",
      "metadata": {
        "id": "view-in-github",
        "colab_type": "text"
      },
      "source": [
        "<a href=\"https://colab.research.google.com/github/marcelosi10/Desafio_IA_Google_Gemini/blob/main/RhDirecionamentoCarreira.ipynb\" target=\"_parent\"><img src=\"https://colab.research.google.com/assets/colab-badge.svg\" alt=\"Open In Colab\"/></a>"
      ]
    },
    {
      "cell_type": "markdown",
      "source": [
        "Direcionamento de Carreira Profissional"
      ],
      "metadata": {
        "id": "EAF_L0sPes-A"
      }
    },
    {
      "cell_type": "markdown",
      "source": [
        "Instalando o SDK do Google."
      ],
      "metadata": {
        "id": "CJXZjrBq8cTe"
      }
    },
    {
      "cell_type": "code",
      "execution_count": 7,
      "metadata": {
        "colab": {
          "base_uri": "https://localhost:8080/",
          "height": 17
        },
        "id": "b_TYy0w5ehxT",
        "outputId": "76c2f27c-e8d6-4267-ccac-13c5ed1e9875"
      },
      "outputs": [
        {
          "output_type": "display_data",
          "data": {
            "text/plain": [
              "<IPython.core.display.HTML object>"
            ],
            "text/html": [
              "\n",
              "            <style>\n",
              "                .geemap-dark {\n",
              "                    --jp-widgets-color: white;\n",
              "                    --jp-widgets-label-color: white;\n",
              "                    --jp-ui-font-color1: white;\n",
              "                    --jp-layout-color2: #454545;\n",
              "                    background-color: #383838;\n",
              "                }\n",
              "\n",
              "                .geemap-dark .jupyter-button {\n",
              "                    --jp-layout-color3: #383838;\n",
              "                }\n",
              "\n",
              "                .geemap-colab {\n",
              "                    background-color: var(--colab-primary-surface-color, white);\n",
              "                }\n",
              "\n",
              "                .geemap-colab .jupyter-button {\n",
              "                    --jp-layout-color3: var(--colab-primary-surface-color, white);\n",
              "                }\n",
              "            </style>\n",
              "            "
            ]
          },
          "metadata": {}
        }
      ],
      "source": [
        "!pip install -q -U google-generativeai"
      ]
    },
    {
      "cell_type": "code",
      "source": [
        "# Importar bibliotecas necessárias\n",
        "\n",
        "import google.generativeai as genai\n",
        "\n",
        "from google.colab import userdata\n",
        "GOOGLE_API_KEY = userdata.get('secret_key')\n",
        "genai.configure(api_key=GOOGLE_API_KEY)\n"
      ],
      "metadata": {
        "colab": {
          "base_uri": "https://localhost:8080/",
          "height": 17
        },
        "id": "FSq93L9C83Kb",
        "outputId": "8d85f6e8-541a-45be-b8ea-c60858c3524b"
      },
      "execution_count": 8,
      "outputs": [
        {
          "output_type": "display_data",
          "data": {
            "text/plain": [
              "<IPython.core.display.HTML object>"
            ],
            "text/html": [
              "\n",
              "            <style>\n",
              "                .geemap-dark {\n",
              "                    --jp-widgets-color: white;\n",
              "                    --jp-widgets-label-color: white;\n",
              "                    --jp-ui-font-color1: white;\n",
              "                    --jp-layout-color2: #454545;\n",
              "                    background-color: #383838;\n",
              "                }\n",
              "\n",
              "                .geemap-dark .jupyter-button {\n",
              "                    --jp-layout-color3: #383838;\n",
              "                }\n",
              "\n",
              "                .geemap-colab {\n",
              "                    background-color: var(--colab-primary-surface-color, white);\n",
              "                }\n",
              "\n",
              "                .geemap-colab .jupyter-button {\n",
              "                    --jp-layout-color3: var(--colab-primary-surface-color, white);\n",
              "                }\n",
              "            </style>\n",
              "            "
            ]
          },
          "metadata": {}
        }
      ]
    },
    {
      "cell_type": "markdown",
      "source": [
        "Definir as configurações para o modelo."
      ],
      "metadata": {
        "id": "KbS0AGtB9Mzg"
      }
    },
    {
      "cell_type": "code",
      "source": [
        "\n",
        "\n",
        "\n",
        "model = genai.GenerativeModel('gemini-pro')\n",
        "\n",
        "generation_config = {\n",
        "    \"candidate_count\": 1,\n",
        "    \"temperature\": 0.5,\n",
        "}\n",
        "\n",
        "safety_settings = {\n",
        "    \"HARASSMENT\":\"BLOCK_NONE\",\n",
        "    \"HATE\": \"BLOCK_NONE\",\n",
        "    \"SEXUAL\": \"BLOCK_NONE\",\n",
        "    \"DANGEROUS\": \"BLOCK_NONE\",\n",
        "}\n",
        "\n",
        "model = genai.GenerativeModel(model_name=\"gemini-1.0-pro\",\n",
        "                              generation_config=generation_config,\n",
        "                              safety_settings=safety_settings)"
      ],
      "metadata": {
        "colab": {
          "base_uri": "https://localhost:8080/",
          "height": 17
        },
        "id": "ttwaEF_D86_9",
        "outputId": "b746480d-b5df-4d2e-c4d8-70d094855d0e"
      },
      "execution_count": 9,
      "outputs": [
        {
          "output_type": "display_data",
          "data": {
            "text/plain": [
              "<IPython.core.display.HTML object>"
            ],
            "text/html": [
              "\n",
              "            <style>\n",
              "                .geemap-dark {\n",
              "                    --jp-widgets-color: white;\n",
              "                    --jp-widgets-label-color: white;\n",
              "                    --jp-ui-font-color1: white;\n",
              "                    --jp-layout-color2: #454545;\n",
              "                    background-color: #383838;\n",
              "                }\n",
              "\n",
              "                .geemap-dark .jupyter-button {\n",
              "                    --jp-layout-color3: #383838;\n",
              "                }\n",
              "\n",
              "                .geemap-colab {\n",
              "                    background-color: var(--colab-primary-surface-color, white);\n",
              "                }\n",
              "\n",
              "                .geemap-colab .jupyter-button {\n",
              "                    --jp-layout-color3: var(--colab-primary-surface-color, white);\n",
              "                }\n",
              "            </style>\n",
              "            "
            ]
          },
          "metadata": {}
        }
      ]
    },
    {
      "cell_type": "markdown",
      "source": [
        "Definir o Chat de Perguntas e Respostas."
      ],
      "metadata": {
        "id": "ENe5g_AN9ddN"
      }
    },
    {
      "cell_type": "code",
      "source": [
        "chat = model.start_chat(history=[])"
      ],
      "metadata": {
        "colab": {
          "base_uri": "https://localhost:8080/",
          "height": 17
        },
        "id": "sh4BjDx5-LgN",
        "outputId": "0b74644e-255f-4ff5-e5b0-f1bc768dd5ec"
      },
      "execution_count": 11,
      "outputs": [
        {
          "output_type": "display_data",
          "data": {
            "text/plain": [
              "<IPython.core.display.HTML object>"
            ],
            "text/html": [
              "\n",
              "            <style>\n",
              "                .geemap-dark {\n",
              "                    --jp-widgets-color: white;\n",
              "                    --jp-widgets-label-color: white;\n",
              "                    --jp-ui-font-color1: white;\n",
              "                    --jp-layout-color2: #454545;\n",
              "                    background-color: #383838;\n",
              "                }\n",
              "\n",
              "                .geemap-dark .jupyter-button {\n",
              "                    --jp-layout-color3: #383838;\n",
              "                }\n",
              "\n",
              "                .geemap-colab {\n",
              "                    background-color: var(--colab-primary-surface-color, white);\n",
              "                }\n",
              "\n",
              "                .geemap-colab .jupyter-button {\n",
              "                    --jp-layout-color3: var(--colab-primary-surface-color, white);\n",
              "                }\n",
              "            </style>\n",
              "            "
            ]
          },
          "metadata": {}
        }
      ]
    },
    {
      "cell_type": "markdown",
      "source": [
        "Benefícios Esperados da Automação: Acredito que essa solução, caberia no contexto de um TechRecruiter(Recrutador de TI), extraindo essas perguntas de cada candidato de uma base de dados de Currículos, e automatizando a leitura da base, até fazer o input de cada candidato, para o modelo processar e salvar o resultado completo seja numa arquivo Excel. Isso o auxiliaria muito de forma rápida e eficaz, para ter as melhores respostas de um direcionamento de carreira para cada candidato."
      ],
      "metadata": {
        "id": "LpxqgarrCpb-"
      }
    },
    {
      "cell_type": "code",
      "source": [
        "prompt = input(\"Esperando prompt: \")\n",
        "\n",
        "while prompt != \"fim\":\n",
        "  response = chat.send_message(prompt)\n",
        "  print(\"Resposta\", response.text, \"\\n\")\n",
        "  prompt = input(\"Esperando prompt: \")\n",
        "\n"
      ],
      "metadata": {
        "colab": {
          "base_uri": "https://localhost:8080/",
          "height": 401
        },
        "id": "G85ZFQn19SqU",
        "outputId": "83f78368-53d5-4e35-89b6-3d5ec38f671e"
      },
      "execution_count": 12,
      "outputs": [
        {
          "output_type": "display_data",
          "data": {
            "text/plain": [
              "<IPython.core.display.HTML object>"
            ],
            "text/html": [
              "\n",
              "            <style>\n",
              "                .geemap-dark {\n",
              "                    --jp-widgets-color: white;\n",
              "                    --jp-widgets-label-color: white;\n",
              "                    --jp-ui-font-color1: white;\n",
              "                    --jp-layout-color2: #454545;\n",
              "                    background-color: #383838;\n",
              "                }\n",
              "\n",
              "                .geemap-dark .jupyter-button {\n",
              "                    --jp-layout-color3: #383838;\n",
              "                }\n",
              "\n",
              "                .geemap-colab {\n",
              "                    background-color: var(--colab-primary-surface-color, white);\n",
              "                }\n",
              "\n",
              "                .geemap-colab .jupyter-button {\n",
              "                    --jp-layout-color3: var(--colab-primary-surface-color, white);\n",
              "                }\n",
              "            </style>\n",
              "            "
            ]
          },
          "metadata": {}
        },
        {
          "name": "stdout",
          "output_type": "stream",
          "text": [
            "Esperando prompt: Linguagens de programação que eu domino (Ex: Python, Java, C++, JavaScript),  ferramentas e tecnologias que eu conheço ou já trabalhei : (Ex: Git, Docker, SQL, AWS, etc.) minha áreas de conhecimento são desenvolvimento web, machine learning, análise de dados, redes, etc.) eu gosto de resolver problemas complexos e criar soluções inovadoras, me informe qual a área ideal em TI para eu trabalhar?\n",
            "Resposta Com base nas linguagens de programação, ferramentas e áreas de conhecimento que você mencionou, as áreas ideais em TI para você trabalhar são:\n",
            "\n",
            "* **Desenvolvimento de Software:** Com seu domínio em Python, Java, C++ e JavaScript, você pode se destacar como desenvolvedor de software full-stack ou back-end, criando soluções de software complexas e inovadoras.\n",
            "\n",
            "* **Engenharia de Dados:** Seu conhecimento de SQL, AWS e análise de dados o torna adequado para funções de engenharia de dados, onde você pode processar e analisar grandes conjuntos de dados para extrair insights valiosos.\n",
            "\n",
            "* **Ciência de Dados:** Sua experiência em Python, machine learning e análise de dados o qualifica para funções de ciência de dados, onde você pode construir e implantar modelos de aprendizado de máquina para resolver problemas de negócios.\n",
            "\n",
            "* **Engenharia de Nuvem:** Seu conhecimento de AWS e Docker sugere que você é um bom candidato para funções de engenharia de nuvem, onde pode projetar, implantar e gerenciar soluções de infraestrutura em nuvem.\n",
            "\n",
            "* **Engenharia de Rede:** Sua área de conhecimento em redes indica que você pode se destacar como engenheiro de rede, projetando, implementando e mantendo redes de computadores seguras e eficientes.\n",
            "\n",
            "Além dessas áreas, suas habilidades em resolver problemas complexos e criar soluções inovadoras são valiosas em qualquer função de TI. Você também pode considerar explorar áreas como:\n",
            "\n",
            "* **Inteligência Artificial (IA)**\n",
            "* **Cibersegurança**\n",
            "* **Desenvolvimento de Jogos**\n",
            "* **Pesquisa e Desenvolvimento (P&D)** \n",
            "\n",
            "Esperando prompt: fim\n"
          ]
        }
      ]
    }
  ]
}